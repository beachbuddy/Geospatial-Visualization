{
 "cells": [
  {
   "cell_type": "code",
   "execution_count": 1,
   "id": "yellow-clarity",
   "metadata": {},
   "outputs": [],
   "source": [
    "import pandas as pd\n",
    "import folium\n",
    "import yaml\n",
    "import pickle\n",
    "import folium"
   ]
  },
  {
   "cell_type": "code",
   "execution_count": 2,
   "id": "stopped-ideal",
   "metadata": {},
   "outputs": [],
   "source": [
    "with open('C:/Users/Sidney/LiveProject/AirBnB_config.yml', 'r') as file:\n",
    "    config=yaml.safe_load(file)"
   ]
  },
  {
   "cell_type": "code",
   "execution_count": 3,
   "id": "burning-secretariat",
   "metadata": {},
   "outputs": [
    {
     "data": {
      "text/plain": [
       "{'general': {'load_from_scratch': False,\n",
       "  'save_raw_dataframe': False,\n",
       "  'save_transformed_dataframe': False,\n",
       "  'remove_bad_values': True},\n",
       " 'columns': {'categorical': ['neighbourhood_group',\n",
       "   'neighbourhood',\n",
       "   'room_type'],\n",
       "  'continuous': ['minimum_nights',\n",
       "   'price',\n",
       "   'number_of_reviews',\n",
       "   'reviews_per_month',\n",
       "   'calculated_host_listings_count'],\n",
       "  'date': ['last_review'],\n",
       "  'text': ['name', 'host_name'],\n",
       "  'excluded': ['id']},\n",
       " 'bounding_box': {'max_long': -73.70018092,\n",
       "  'max_lat': 40.91617849,\n",
       "  'min_long': -74.25909008,\n",
       "  'min_lat': 40.47739894},\n",
       " 'newark_bounding_box': {'max_long': -74.11278706,\n",
       "  'max_lat': 40.67325015,\n",
       "  'min_long': -74.25132408,\n",
       "  'min_lat': 40.78813864},\n",
       " 'geo_columns': ['latitude', 'longitude'],\n",
       " 'file_names': {'input_csv': 'AB_NYC_2019.csv',\n",
       "  'pickled_input_dataframe': 'C:/Users/Sidney/OneDrive/Documents/LiveProject/AB_NYC_2021.pkl',\n",
       "  'pickled_output_dataframe': 'AB_NYC_23_May_2021.pkl'}}"
      ]
     },
     "execution_count": 3,
     "metadata": {},
     "output_type": "execute_result"
    }
   ],
   "source": [
    "config"
   ]
  },
  {
   "cell_type": "code",
   "execution_count": 4,
   "id": "increased-samuel",
   "metadata": {},
   "outputs": [
    {
     "data": {
      "text/plain": [
       "dict_keys(['general', 'columns', 'bounding_box', 'newark_bounding_box', 'geo_columns', 'file_names'])"
      ]
     },
     "execution_count": 4,
     "metadata": {},
     "output_type": "execute_result"
    }
   ],
   "source": [
    "config.keys()"
   ]
  },
  {
   "cell_type": "code",
   "execution_count": 5,
   "id": "frequent-efficiency",
   "metadata": {},
   "outputs": [],
   "source": [
    "file_names=config.get('file_names')"
   ]
  },
  {
   "cell_type": "code",
   "execution_count": 6,
   "id": "static-quest",
   "metadata": {},
   "outputs": [
    {
     "data": {
      "text/plain": [
       "{'input_csv': 'AB_NYC_2019.csv',\n",
       " 'pickled_input_dataframe': 'C:/Users/Sidney/OneDrive/Documents/LiveProject/AB_NYC_2021.pkl',\n",
       " 'pickled_output_dataframe': 'AB_NYC_23_May_2021.pkl'}"
      ]
     },
     "execution_count": 6,
     "metadata": {},
     "output_type": "execute_result"
    }
   ],
   "source": [
    "file_names"
   ]
  },
  {
   "cell_type": "code",
   "execution_count": 7,
   "id": "spanish-cartoon",
   "metadata": {},
   "outputs": [],
   "source": [
    "ip_data_frame=file_names.get('pickled_input_dataframe')"
   ]
  },
  {
   "cell_type": "code",
   "execution_count": 8,
   "id": "western-popularity",
   "metadata": {},
   "outputs": [],
   "source": [
    "infile=open(ip_data_frame, 'rb')"
   ]
  },
  {
   "cell_type": "code",
   "execution_count": 9,
   "id": "bizarre-location",
   "metadata": {},
   "outputs": [],
   "source": [
    "df=pickle.load(infile)"
   ]
  },
  {
   "cell_type": "code",
   "execution_count": 10,
   "id": "heated-utility",
   "metadata": {},
   "outputs": [
    {
     "data": {
      "text/html": [
       "<div>\n",
       "<style scoped>\n",
       "    .dataframe tbody tr th:only-of-type {\n",
       "        vertical-align: middle;\n",
       "    }\n",
       "\n",
       "    .dataframe tbody tr th {\n",
       "        vertical-align: top;\n",
       "    }\n",
       "\n",
       "    .dataframe thead th {\n",
       "        text-align: right;\n",
       "    }\n",
       "</style>\n",
       "<table border=\"1\" class=\"dataframe\">\n",
       "  <thead>\n",
       "    <tr style=\"text-align: right;\">\n",
       "      <th></th>\n",
       "      <th>id</th>\n",
       "      <th>name</th>\n",
       "      <th>host_id</th>\n",
       "      <th>host_name</th>\n",
       "      <th>neighbourhood_group</th>\n",
       "      <th>neighbourhood</th>\n",
       "      <th>latitude</th>\n",
       "      <th>longitude</th>\n",
       "      <th>room_type</th>\n",
       "      <th>price</th>\n",
       "      <th>minimum_nights</th>\n",
       "      <th>number_of_reviews</th>\n",
       "      <th>last_review</th>\n",
       "      <th>reviews_per_month</th>\n",
       "      <th>calculated_host_listings_count</th>\n",
       "      <th>availability_365</th>\n",
       "    </tr>\n",
       "  </thead>\n",
       "  <tbody>\n",
       "    <tr>\n",
       "      <th>0</th>\n",
       "      <td>2539</td>\n",
       "      <td>Clean &amp; quiet apt home by the park</td>\n",
       "      <td>2787</td>\n",
       "      <td>John</td>\n",
       "      <td>Brooklyn</td>\n",
       "      <td>Kensington</td>\n",
       "      <td>40.64749</td>\n",
       "      <td>-73.97237</td>\n",
       "      <td>Private room</td>\n",
       "      <td>149</td>\n",
       "      <td>1</td>\n",
       "      <td>9</td>\n",
       "      <td>2018-10-19</td>\n",
       "      <td>0.21</td>\n",
       "      <td>6</td>\n",
       "      <td>365</td>\n",
       "    </tr>\n",
       "    <tr>\n",
       "      <th>1</th>\n",
       "      <td>2595</td>\n",
       "      <td>Skylit Midtown Castle</td>\n",
       "      <td>2845</td>\n",
       "      <td>Jennifer</td>\n",
       "      <td>Manhattan</td>\n",
       "      <td>Midtown</td>\n",
       "      <td>40.75362</td>\n",
       "      <td>-73.98377</td>\n",
       "      <td>Entire home/apt</td>\n",
       "      <td>225</td>\n",
       "      <td>1</td>\n",
       "      <td>45</td>\n",
       "      <td>2019-05-21</td>\n",
       "      <td>0.38</td>\n",
       "      <td>2</td>\n",
       "      <td>355</td>\n",
       "    </tr>\n",
       "    <tr>\n",
       "      <th>2</th>\n",
       "      <td>3647</td>\n",
       "      <td>THE VILLAGE OF HARLEM....NEW YORK !</td>\n",
       "      <td>4632</td>\n",
       "      <td>Elisabeth</td>\n",
       "      <td>Manhattan</td>\n",
       "      <td>Harlem</td>\n",
       "      <td>40.80902</td>\n",
       "      <td>-73.94190</td>\n",
       "      <td>Private room</td>\n",
       "      <td>150</td>\n",
       "      <td>3</td>\n",
       "      <td>0</td>\n",
       "      <td>NaN</td>\n",
       "      <td>0.00</td>\n",
       "      <td>1</td>\n",
       "      <td>365</td>\n",
       "    </tr>\n",
       "    <tr>\n",
       "      <th>3</th>\n",
       "      <td>3831</td>\n",
       "      <td>Cozy Entire Floor of Brownstone</td>\n",
       "      <td>4869</td>\n",
       "      <td>LisaRoxanne</td>\n",
       "      <td>Brooklyn</td>\n",
       "      <td>Clinton Hill</td>\n",
       "      <td>40.68514</td>\n",
       "      <td>-73.95976</td>\n",
       "      <td>Entire home/apt</td>\n",
       "      <td>89</td>\n",
       "      <td>1</td>\n",
       "      <td>270</td>\n",
       "      <td>2019-07-05</td>\n",
       "      <td>4.64</td>\n",
       "      <td>1</td>\n",
       "      <td>194</td>\n",
       "    </tr>\n",
       "    <tr>\n",
       "      <th>4</th>\n",
       "      <td>5022</td>\n",
       "      <td>Entire Apt: Spacious Studio/Loft by central park</td>\n",
       "      <td>7192</td>\n",
       "      <td>Laura</td>\n",
       "      <td>Manhattan</td>\n",
       "      <td>East Harlem</td>\n",
       "      <td>40.79851</td>\n",
       "      <td>-73.94399</td>\n",
       "      <td>Entire home/apt</td>\n",
       "      <td>80</td>\n",
       "      <td>10</td>\n",
       "      <td>9</td>\n",
       "      <td>2018-11-19</td>\n",
       "      <td>0.10</td>\n",
       "      <td>1</td>\n",
       "      <td>0</td>\n",
       "    </tr>\n",
       "  </tbody>\n",
       "</table>\n",
       "</div>"
      ],
      "text/plain": [
       "     id                                              name  host_id  \\\n",
       "0  2539                Clean & quiet apt home by the park     2787   \n",
       "1  2595                             Skylit Midtown Castle     2845   \n",
       "2  3647               THE VILLAGE OF HARLEM....NEW YORK !     4632   \n",
       "3  3831                   Cozy Entire Floor of Brownstone     4869   \n",
       "4  5022  Entire Apt: Spacious Studio/Loft by central park     7192   \n",
       "\n",
       "     host_name neighbourhood_group neighbourhood  latitude  longitude  \\\n",
       "0         John            Brooklyn    Kensington  40.64749  -73.97237   \n",
       "1     Jennifer           Manhattan       Midtown  40.75362  -73.98377   \n",
       "2    Elisabeth           Manhattan        Harlem  40.80902  -73.94190   \n",
       "3  LisaRoxanne            Brooklyn  Clinton Hill  40.68514  -73.95976   \n",
       "4        Laura           Manhattan   East Harlem  40.79851  -73.94399   \n",
       "\n",
       "         room_type  price  minimum_nights  number_of_reviews last_review  \\\n",
       "0     Private room    149               1                  9  2018-10-19   \n",
       "1  Entire home/apt    225               1                 45  2019-05-21   \n",
       "2     Private room    150               3                  0         NaN   \n",
       "3  Entire home/apt     89               1                270  2019-07-05   \n",
       "4  Entire home/apt     80              10                  9  2018-11-19   \n",
       "\n",
       "   reviews_per_month  calculated_host_listings_count  availability_365  \n",
       "0               0.21                               6               365  \n",
       "1               0.38                               2               355  \n",
       "2               0.00                               1               365  \n",
       "3               4.64                               1               194  \n",
       "4               0.10                               1                 0  "
      ]
     },
     "execution_count": 10,
     "metadata": {},
     "output_type": "execute_result"
    }
   ],
   "source": [
    "df.head()"
   ]
  },
  {
   "cell_type": "code",
   "execution_count": 11,
   "id": "behavioral-liverpool",
   "metadata": {},
   "outputs": [],
   "source": [
    "latitude=40.71455\n",
    "longitude=-74.00712"
   ]
  },
  {
   "cell_type": "code",
   "execution_count": 12,
   "id": "ahead-appraisal",
   "metadata": {},
   "outputs": [],
   "source": [
    "NYC_map=folium.Map(location=[latitude,longitude],zoom_start=8)"
   ]
  },
  {
   "cell_type": "code",
   "execution_count": 14,
   "id": "mechanical-review",
   "metadata": {},
   "outputs": [
    {
     "data": {
      "text/plain": [
       "Manhattan        21661\n",
       "Brooklyn         20104\n",
       "Queens            5666\n",
       "Bronx             1091\n",
       "Staten Island      373\n",
       "Name: neighbourhood_group, dtype: int64"
      ]
     },
     "execution_count": 14,
     "metadata": {},
     "output_type": "execute_result"
    }
   ],
   "source": [
    "df['neighbourhood_group'].value_counts()"
   ]
  },
  {
   "cell_type": "code",
   "execution_count": 15,
   "id": "offensive-intention",
   "metadata": {},
   "outputs": [],
   "source": [
    "colors=['red','yellow','orange','green','blue']"
   ]
  },
  {
   "cell_type": "code",
   "execution_count": 16,
   "id": "organized-wheel",
   "metadata": {},
   "outputs": [],
   "source": [
    "indices = sorted(list(df['neighbourhood_group'].unique()))"
   ]
  },
  {
   "cell_type": "code",
   "execution_count": 17,
   "id": "distinct-fitting",
   "metadata": {},
   "outputs": [],
   "source": [
    "df['color'] = df['neighbourhood_group'].apply(lambda x: \n",
    "               colors[indices.index(x)])"
   ]
  },
  {
   "cell_type": "markdown",
   "id": "spatial-shame",
   "metadata": {},
   "source": [
    "Brooklyn: yellow, Manhattan: orange, Queens: green, Bronx: red, Staten Island: blue"
   ]
  },
  {
   "cell_type": "code",
   "execution_count": 18,
   "id": "wound-attack",
   "metadata": {},
   "outputs": [
    {
     "data": {
      "text/plain": [
       "0        <folium.vector_layers.CircleMarker object at 0...\n",
       "1        <folium.vector_layers.CircleMarker object at 0...\n",
       "2        <folium.vector_layers.CircleMarker object at 0...\n",
       "3        <folium.vector_layers.CircleMarker object at 0...\n",
       "4        <folium.vector_layers.CircleMarker object at 0...\n",
       "                               ...                        \n",
       "48890    <folium.vector_layers.CircleMarker object at 0...\n",
       "48891    <folium.vector_layers.CircleMarker object at 0...\n",
       "48892    <folium.vector_layers.CircleMarker object at 0...\n",
       "48893    <folium.vector_layers.CircleMarker object at 0...\n",
       "48894    <folium.vector_layers.CircleMarker object at 0...\n",
       "Length: 48895, dtype: object"
      ]
     },
     "execution_count": 18,
     "metadata": {},
     "output_type": "execute_result"
    }
   ],
   "source": [
    "df.apply(lambda x: folium.CircleMarker(\n",
    "           location=[x['latitude'],x['longitude']], \n",
    "           color=x['color'], fill=True,\n",
    "           radius=1).add_to(NYC_map), axis=1)"
   ]
  },
  {
   "cell_type": "code",
   "execution_count": null,
   "id": "passing-whale",
   "metadata": {},
   "outputs": [],
   "source": [
    "NYC_map"
   ]
  },
  {
   "cell_type": "code",
   "execution_count": 20,
   "id": "covered-matrix",
   "metadata": {},
   "outputs": [
    {
     "data": {
      "text/plain": [
       "count    48895.000000\n",
       "mean       152.720687\n",
       "std        240.154170\n",
       "min          0.000000\n",
       "25%         69.000000\n",
       "50%        106.000000\n",
       "75%        175.000000\n",
       "max      10000.000000\n",
       "Name: price, dtype: float64"
      ]
     },
     "execution_count": 20,
     "metadata": {},
     "output_type": "execute_result"
    }
   ],
   "source": [
    "df['price'].describe()"
   ]
  },
  {
   "cell_type": "code",
   "execution_count": 21,
   "id": "adult-silicon",
   "metadata": {},
   "outputs": [],
   "source": [
    "NYC_map2=folium.Map(location=[latitude,longitude],zoom_start=8)"
   ]
  },
  {
   "cell_type": "code",
   "execution_count": 22,
   "id": "executive-dylan",
   "metadata": {},
   "outputs": [],
   "source": [
    "def price_color(price):\n",
    "    if price<70:\n",
    "        return 'black'\n",
    "    elif (price>=70 and price<106):\n",
    "        return 'green'\n",
    "    elif (price>=106 and price<175):\n",
    "        return 'yellow'\n",
    "    elif (price>=175 and price<500):\n",
    "        return 'orange'\n",
    "    else:\n",
    "        return 'red'\n",
    "        \n",
    "df['Price_Color'] = df.apply(lambda x: price_color(x['price']),axis=1)"
   ]
  },
  {
   "cell_type": "code",
   "execution_count": 23,
   "id": "living-audit",
   "metadata": {},
   "outputs": [
    {
     "data": {
      "text/html": [
       "<div>\n",
       "<style scoped>\n",
       "    .dataframe tbody tr th:only-of-type {\n",
       "        vertical-align: middle;\n",
       "    }\n",
       "\n",
       "    .dataframe tbody tr th {\n",
       "        vertical-align: top;\n",
       "    }\n",
       "\n",
       "    .dataframe thead th {\n",
       "        text-align: right;\n",
       "    }\n",
       "</style>\n",
       "<table border=\"1\" class=\"dataframe\">\n",
       "  <thead>\n",
       "    <tr style=\"text-align: right;\">\n",
       "      <th></th>\n",
       "      <th>id</th>\n",
       "      <th>name</th>\n",
       "      <th>host_id</th>\n",
       "      <th>host_name</th>\n",
       "      <th>neighbourhood_group</th>\n",
       "      <th>neighbourhood</th>\n",
       "      <th>latitude</th>\n",
       "      <th>longitude</th>\n",
       "      <th>room_type</th>\n",
       "      <th>price</th>\n",
       "      <th>minimum_nights</th>\n",
       "      <th>number_of_reviews</th>\n",
       "      <th>last_review</th>\n",
       "      <th>reviews_per_month</th>\n",
       "      <th>calculated_host_listings_count</th>\n",
       "      <th>availability_365</th>\n",
       "      <th>color</th>\n",
       "      <th>Price_Color</th>\n",
       "    </tr>\n",
       "  </thead>\n",
       "  <tbody>\n",
       "    <tr>\n",
       "      <th>0</th>\n",
       "      <td>2539</td>\n",
       "      <td>Clean &amp; quiet apt home by the park</td>\n",
       "      <td>2787</td>\n",
       "      <td>John</td>\n",
       "      <td>Brooklyn</td>\n",
       "      <td>Kensington</td>\n",
       "      <td>40.64749</td>\n",
       "      <td>-73.97237</td>\n",
       "      <td>Private room</td>\n",
       "      <td>149</td>\n",
       "      <td>1</td>\n",
       "      <td>9</td>\n",
       "      <td>2018-10-19</td>\n",
       "      <td>0.21</td>\n",
       "      <td>6</td>\n",
       "      <td>365</td>\n",
       "      <td>yellow</td>\n",
       "      <td>yellow</td>\n",
       "    </tr>\n",
       "    <tr>\n",
       "      <th>1</th>\n",
       "      <td>2595</td>\n",
       "      <td>Skylit Midtown Castle</td>\n",
       "      <td>2845</td>\n",
       "      <td>Jennifer</td>\n",
       "      <td>Manhattan</td>\n",
       "      <td>Midtown</td>\n",
       "      <td>40.75362</td>\n",
       "      <td>-73.98377</td>\n",
       "      <td>Entire home/apt</td>\n",
       "      <td>225</td>\n",
       "      <td>1</td>\n",
       "      <td>45</td>\n",
       "      <td>2019-05-21</td>\n",
       "      <td>0.38</td>\n",
       "      <td>2</td>\n",
       "      <td>355</td>\n",
       "      <td>orange</td>\n",
       "      <td>orange</td>\n",
       "    </tr>\n",
       "    <tr>\n",
       "      <th>2</th>\n",
       "      <td>3647</td>\n",
       "      <td>THE VILLAGE OF HARLEM....NEW YORK !</td>\n",
       "      <td>4632</td>\n",
       "      <td>Elisabeth</td>\n",
       "      <td>Manhattan</td>\n",
       "      <td>Harlem</td>\n",
       "      <td>40.80902</td>\n",
       "      <td>-73.94190</td>\n",
       "      <td>Private room</td>\n",
       "      <td>150</td>\n",
       "      <td>3</td>\n",
       "      <td>0</td>\n",
       "      <td>NaN</td>\n",
       "      <td>0.00</td>\n",
       "      <td>1</td>\n",
       "      <td>365</td>\n",
       "      <td>orange</td>\n",
       "      <td>yellow</td>\n",
       "    </tr>\n",
       "    <tr>\n",
       "      <th>3</th>\n",
       "      <td>3831</td>\n",
       "      <td>Cozy Entire Floor of Brownstone</td>\n",
       "      <td>4869</td>\n",
       "      <td>LisaRoxanne</td>\n",
       "      <td>Brooklyn</td>\n",
       "      <td>Clinton Hill</td>\n",
       "      <td>40.68514</td>\n",
       "      <td>-73.95976</td>\n",
       "      <td>Entire home/apt</td>\n",
       "      <td>89</td>\n",
       "      <td>1</td>\n",
       "      <td>270</td>\n",
       "      <td>2019-07-05</td>\n",
       "      <td>4.64</td>\n",
       "      <td>1</td>\n",
       "      <td>194</td>\n",
       "      <td>yellow</td>\n",
       "      <td>green</td>\n",
       "    </tr>\n",
       "    <tr>\n",
       "      <th>4</th>\n",
       "      <td>5022</td>\n",
       "      <td>Entire Apt: Spacious Studio/Loft by central park</td>\n",
       "      <td>7192</td>\n",
       "      <td>Laura</td>\n",
       "      <td>Manhattan</td>\n",
       "      <td>East Harlem</td>\n",
       "      <td>40.79851</td>\n",
       "      <td>-73.94399</td>\n",
       "      <td>Entire home/apt</td>\n",
       "      <td>80</td>\n",
       "      <td>10</td>\n",
       "      <td>9</td>\n",
       "      <td>2018-11-19</td>\n",
       "      <td>0.10</td>\n",
       "      <td>1</td>\n",
       "      <td>0</td>\n",
       "      <td>orange</td>\n",
       "      <td>green</td>\n",
       "    </tr>\n",
       "  </tbody>\n",
       "</table>\n",
       "</div>"
      ],
      "text/plain": [
       "     id                                              name  host_id  \\\n",
       "0  2539                Clean & quiet apt home by the park     2787   \n",
       "1  2595                             Skylit Midtown Castle     2845   \n",
       "2  3647               THE VILLAGE OF HARLEM....NEW YORK !     4632   \n",
       "3  3831                   Cozy Entire Floor of Brownstone     4869   \n",
       "4  5022  Entire Apt: Spacious Studio/Loft by central park     7192   \n",
       "\n",
       "     host_name neighbourhood_group neighbourhood  latitude  longitude  \\\n",
       "0         John            Brooklyn    Kensington  40.64749  -73.97237   \n",
       "1     Jennifer           Manhattan       Midtown  40.75362  -73.98377   \n",
       "2    Elisabeth           Manhattan        Harlem  40.80902  -73.94190   \n",
       "3  LisaRoxanne            Brooklyn  Clinton Hill  40.68514  -73.95976   \n",
       "4        Laura           Manhattan   East Harlem  40.79851  -73.94399   \n",
       "\n",
       "         room_type  price  minimum_nights  number_of_reviews last_review  \\\n",
       "0     Private room    149               1                  9  2018-10-19   \n",
       "1  Entire home/apt    225               1                 45  2019-05-21   \n",
       "2     Private room    150               3                  0         NaN   \n",
       "3  Entire home/apt     89               1                270  2019-07-05   \n",
       "4  Entire home/apt     80              10                  9  2018-11-19   \n",
       "\n",
       "   reviews_per_month  calculated_host_listings_count  availability_365  \\\n",
       "0               0.21                               6               365   \n",
       "1               0.38                               2               355   \n",
       "2               0.00                               1               365   \n",
       "3               4.64                               1               194   \n",
       "4               0.10                               1                 0   \n",
       "\n",
       "    color Price_Color  \n",
       "0  yellow      yellow  \n",
       "1  orange      orange  \n",
       "2  orange      yellow  \n",
       "3  yellow       green  \n",
       "4  orange       green  "
      ]
     },
     "execution_count": 23,
     "metadata": {},
     "output_type": "execute_result"
    }
   ],
   "source": [
    "df.head()"
   ]
  },
  {
   "cell_type": "code",
   "execution_count": 24,
   "id": "shaped-somewhere",
   "metadata": {},
   "outputs": [
    {
     "data": {
      "text/plain": [
       "0        <folium.vector_layers.CircleMarker object at 0...\n",
       "1        <folium.vector_layers.CircleMarker object at 0...\n",
       "2        <folium.vector_layers.CircleMarker object at 0...\n",
       "3        <folium.vector_layers.CircleMarker object at 0...\n",
       "4        <folium.vector_layers.CircleMarker object at 0...\n",
       "                               ...                        \n",
       "48890    <folium.vector_layers.CircleMarker object at 0...\n",
       "48891    <folium.vector_layers.CircleMarker object at 0...\n",
       "48892    <folium.vector_layers.CircleMarker object at 0...\n",
       "48893    <folium.vector_layers.CircleMarker object at 0...\n",
       "48894    <folium.vector_layers.CircleMarker object at 0...\n",
       "Length: 48895, dtype: object"
      ]
     },
     "execution_count": 24,
     "metadata": {},
     "output_type": "execute_result"
    }
   ],
   "source": [
    "df.apply(lambda x: folium.CircleMarker(\n",
    "           location=[x['latitude'],x['longitude']], \n",
    "           color=x['Price_Color'], fill=True,\n",
    "           radius=1).add_to(NYC_map2), axis=1)"
   ]
  },
  {
   "cell_type": "markdown",
   "id": "superb-directive",
   "metadata": {},
   "source": [
    "Lodging Prices(USD): 0-69: black, 70-105: green, 106-174: yellow, 175-499: orange, 500-1000: red "
   ]
  },
  {
   "cell_type": "code",
   "execution_count": null,
   "id": "basic-aquarium",
   "metadata": {},
   "outputs": [],
   "source": [
    "NYC_map2"
   ]
  }
 ],
 "metadata": {
  "kernelspec": {
   "display_name": "Python 3",
   "language": "python",
   "name": "python3"
  },
  "language_info": {
   "codemirror_mode": {
    "name": "ipython",
    "version": 3
   },
   "file_extension": ".py",
   "mimetype": "text/x-python",
   "name": "python",
   "nbconvert_exporter": "python",
   "pygments_lexer": "ipython3",
   "version": "3.8.8"
  }
 },
 "nbformat": 4,
 "nbformat_minor": 5
}
